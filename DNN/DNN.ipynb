{
  "nbformat": 4,
  "nbformat_minor": 0,
  "metadata": {
    "colab": {
      "name": "DNN.ipynb",
      "provenance": [],
      "collapsed_sections": [],
      "toc_visible": true
    },
    "kernelspec": {
      "name": "python3",
      "display_name": "Python 3"
    }
  },
  "cells": [
    {
      "cell_type": "code",
      "metadata": {
        "id": "xH7nFXdt1VFI"
      },
      "source": [
        "import torch\n",
        "import numpy as np\n",
        "\n",
        "from torchvision import datasets\n",
        "import torchvision.transforms as transforms"
      ],
      "execution_count": null,
      "outputs": []
    },
    {
      "cell_type": "code",
      "metadata": {
        "id": "Scra-oFa1-02"
      },
      "source": [
        "num_workers = 0\n",
        "batch_size = 20"
      ],
      "execution_count": null,
      "outputs": []
    },
    {
      "cell_type": "code",
      "metadata": {
        "id": "kuZoU6xG2Fzf"
      },
      "source": [
        "transform = transforms.ToTensor()"
      ],
      "execution_count": null,
      "outputs": []
    },
    {
      "cell_type": "code",
      "metadata": {
        "id": "dEwzb6J92OS3"
      },
      "source": [
        "train_data = datasets.MNIST(root=\"data\",\n",
        "                            train=True,\n",
        "                            download=True,\n",
        "                            transform=transform)\n",
        "\n",
        "test_data = datasets.MNIST(root='data', train=False,\n",
        "                                  download=True, transform=transform)"
      ],
      "execution_count": null,
      "outputs": []
    },
    {
      "cell_type": "code",
      "metadata": {
        "id": "qb_o717e2i9k"
      },
      "source": [
        "train_loader = torch.utils.data.DataLoader(train_data,\n",
        "                                           batch_size=batch_size,\n",
        "                                           num_workers=num_workers)\n",
        "\n",
        "test_loader = torch.utils.data.DataLoader(test_data,\n",
        "                                          batch_size=batch_size, \n",
        "                                          num_workers=num_workers)"
      ],
      "execution_count": null,
      "outputs": []
    },
    {
      "cell_type": "code",
      "metadata": {
        "colab": {
          "base_uri": "https://localhost:8080/",
          "height": 218
        },
        "id": "z9VK6nUQ2nUW",
        "outputId": "a169d30d-d0b6-4712-918b-2ba50f9bb140"
      },
      "source": [
        "import matplotlib.pyplot as plt\n",
        "%matplotlib inline\n",
        "    \n",
        "dataiter = iter(train_loader)\n",
        "images, labels = dataiter.next()\n",
        "images = images.numpy()\n",
        "\n",
        "# Peeking into dataset\n",
        "fig = plt.figure(figsize=(25, 4))\n",
        "for image in np.arange(20):\n",
        "    ax = fig.add_subplot(2, 20/2, image+1, xticks=[], yticks=[])\n",
        "    ax.imshow(np.squeeze(images[image]), cmap='gray')\n",
        "    ax.set_title(str(labels[image].item()))"
      ],
      "execution_count": null,
      "outputs": [
        {
          "output_type": "display_data",
          "data": {
            "image/png": "[encoded data removed]",
            "text/plain": [
              "<Figure size 1800x288 with 20 Axes>"
            ]
          },
          "metadata": {
            "tags": []
          }
        }
      ]
    },
    {
      "cell_type": "markdown",
      "metadata": {
        "id": "cKX4Vh1R_zcH"
      },
      "source": [
        "# Basic PyTorch"
      ]
    },
    {
      "cell_type": "code",
      "metadata": {
        "id": "gbQhedZz3f30"
      },
      "source": [
        "import torch.nn as nn"
      ],
      "execution_count": 11,
      "outputs": []
    },
    {
      "cell_type": "code",
      "metadata": {
        "id": "Np9LO2sD-ToC"
      },
      "source": [
        "x = torch.tensor(1., requires_grad=True)\n",
        "w = torch.tensor(2., requires_grad=True)\n",
        "b = torch.tensor(3., requires_grad=True)\n",
        "\n",
        "#Computional model\n",
        "y = w * x + b"
      ],
      "execution_count": 14,
      "outputs": []
    },
    {
      "cell_type": "code",
      "metadata": {
        "colab": {
          "base_uri": "https://localhost:8080/"
        },
        "id": "vVjlTRz2-eYu",
        "outputId": "c608843e-2369-4108-c92a-5eebd8640d85"
      },
      "source": [
        "y.backward()\n",
        "\n",
        "print(x.grad, w.grad, b.grad)"
      ],
      "execution_count": 16,
      "outputs": [
        {
          "output_type": "stream",
          "text": [
            "tensor(2.) tensor(1.) tensor(1.)\n"
          ],
          "name": "stdout"
        }
      ]
    },
    {
      "cell_type": "markdown",
      "metadata": {
        "id": "dXXKsoJ-_Yyo"
      },
      "source": [
        "# Basic autograd. Linear model"
      ]
    },
    {
      "cell_type": "code",
      "metadata": {
        "colab": {
          "base_uri": "https://localhost:8080/"
        },
        "id": "LpOBxOZo-iWX",
        "outputId": "32578dac-44d6-49ca-a86a-20c00ac6496a"
      },
      "source": [
        "x = torch.randn(10, 3)\n",
        "y = torch.randn(10, 2)\n",
        "\n",
        "linear = nn.Linear(3,2)\n",
        "\n",
        "print(\"W:\", linear.weight)\n",
        "print(\"B:\", linear.bias)"
      ],
      "execution_count": 17,
      "outputs": [
        {
          "output_type": "stream",
          "text": [
            "W: Parameter containing:\n",
            "tensor([[-0.5182,  0.3812,  0.0862],\n",
            "        [-0.1077, -0.2510, -0.4740]], requires_grad=True)\n",
            "B: Parameter containing:\n",
            "tensor([0.0509, 0.1808], requires_grad=True)\n"
          ],
          "name": "stdout"
        }
      ]
    },
    {
      "cell_type": "code",
      "metadata": {
        "id": "Cb42nrnuAEry"
      },
      "source": [
        "criterion = nn.MSELoss()\n",
        "optimizer = torch.optim.SGD(linear.parameters(), lr=.01)"
      ],
      "execution_count": 18,
      "outputs": []
    },
    {
      "cell_type": "code",
      "metadata": {
        "colab": {
          "base_uri": "https://localhost:8080/"
        },
        "id": "OKc8BQ_6ArXp",
        "outputId": "5b350ac3-c87b-4528-8266-d90b2db5ff97"
      },
      "source": [
        "pred = linear(x)\n",
        "loss = criterion(pred, y)\n",
        "print(\"Loss: \", loss.item())"
      ],
      "execution_count": 21,
      "outputs": [
        {
          "output_type": "stream",
          "text": [
            "Loss:  1.4622563123703003\n"
          ],
          "name": "stdout"
        }
      ]
    },
    {
      "cell_type": "code",
      "metadata": {
        "id": "Nl-xjb1aAuht"
      },
      "source": [
        "loss.backward()"
      ],
      "execution_count": 22,
      "outputs": []
    },
    {
      "cell_type": "code",
      "metadata": {
        "colab": {
          "base_uri": "https://localhost:8080/"
        },
        "id": "oe9gk_yoBJ5X",
        "outputId": "06a99a6b-1ff3-4230-ec29-9065eb0a67c3"
      },
      "source": [
        "print(\"dL/dw:\", linear.weight.grad)\n",
        "print(\"dL/db:\", linear.bias.grad)"
      ],
      "execution_count": 24,
      "outputs": [
        {
          "output_type": "stream",
          "text": [
            "dL/dw: tensor([[-0.4646,  0.5547, -0.1031],\n",
            "        [-0.1968, -0.3741, -0.5030]])\n",
            "dL/db: tensor([-0.3581,  0.0433])\n"
          ],
          "name": "stdout"
        }
      ]
    },
    {
      "cell_type": "code",
      "metadata": {
        "id": "RCKp5StCBasT"
      },
      "source": [
        "optimizer.step()"
      ],
      "execution_count": 25,
      "outputs": []
    },
    {
      "cell_type": "code",
      "metadata": {
        "colab": {
          "base_uri": "https://localhost:8080/"
        },
        "id": "Oo1aLzFQDLf4",
        "outputId": "6109d581-fd1e-4b01-9618-652ae22a3428"
      },
      "source": [
        "pred = linear(x)\n",
        "loss = criterion(pred, y)\n",
        "print('loss after 1 step optimization: ', loss.item())"
      ],
      "execution_count": 26,
      "outputs": [
        {
          "output_type": "stream",
          "text": [
            "loss after 1 step optimization:  1.4513428211212158\n"
          ],
          "name": "stdout"
        }
      ]
    },
    {
      "cell_type": "code",
      "metadata": {
        "colab": {
          "base_uri": "https://localhost:8080/"
        },
        "id": "ztyBoDj9DOk3",
        "outputId": "aabf27c6-de42-46fd-bdc6-cf75c66bd631"
      },
      "source": [
        "print(linear)"
      ],
      "execution_count": 27,
      "outputs": [
        {
          "output_type": "stream",
          "text": [
            "Linear(in_features=3, out_features=2, bias=True)\n"
          ],
          "name": "stdout"
        }
      ]
    },
    {
      "cell_type": "markdown",
      "metadata": {
        "id": "WbKtGXplFwIA"
      },
      "source": [
        "# Tensor from Numpy"
      ]
    },
    {
      "cell_type": "code",
      "metadata": {
        "colab": {
          "base_uri": "https://localhost:8080/"
        },
        "id": "Pv4oxaF8EI52",
        "outputId": "c5a84f2e-847f-424e-db7e-54e5d5f4d462"
      },
      "source": [
        "x = np.array([[1,2], [3,4]])\n",
        "y = torch.from_numpy(x)\n",
        "\n",
        "z = y.numpy()\n",
        "\n",
        "print(x, \"\\n\", y,\"\\n\", z)"
      ],
      "execution_count": 30,
      "outputs": [
        {
          "output_type": "stream",
          "text": [
            "[[1 2]\n",
            " [3 4]] \n",
            " tensor([[1, 2],\n",
            "        [3, 4]]) \n",
            " [[1 2]\n",
            " [3 4]]\n"
          ],
          "name": "stdout"
        }
      ]
    },
    {
      "cell_type": "markdown",
      "metadata": {
        "id": "whJE3RqCHNq6"
      },
      "source": [
        "# Train Linear model"
      ]
    },
    {
      "cell_type": "code",
      "metadata": {
        "id": "n6vOjVMPGBkc"
      },
      "source": [
        "import torch\n",
        "import torch.nn as nn\n",
        "import numpy as np\n",
        "import matplotlib.pyplot as plt\n",
        "%matplotlib inline"
      ],
      "execution_count": 31,
      "outputs": []
    },
    {
      "cell_type": "code",
      "metadata": {
        "id": "UX7g0ZZeHtSx"
      },
      "source": [
        "input_size = 1\n",
        "output_size = 1\n",
        "num_epochs = 60\n",
        "learning_rate = 0.001\n",
        "\n",
        "x_train = np.array([[3.3], [4.4], [5.5], [6.71], [6.93], [4.168], \n",
        "                    [9.779], [6.182], [7.59], [2.167], [7.042], \n",
        "                    [10.791], [5.313], [7.997], [3.1]], dtype=np.float32)\n",
        "\n",
        "y_train = np.array([[1.7], [2.76], [2.09], [3.19], [1.694], [1.573], \n",
        "                    [3.366], [2.596], [2.53], [1.221], [2.827], \n",
        "                    [3.465], [1.65], [2.904], [1.3]], dtype=np.float32)"
      ],
      "execution_count": 32,
      "outputs": []
    },
    {
      "cell_type": "code",
      "metadata": {
        "id": "1fECsisdH7jW"
      },
      "source": [
        "model = nn.Linear(input_size, output_size)\n",
        "\n",
        "criterion = nn.MSELoss()\n",
        "optimizer = torch.optim.SGD(model.parameters(),\n",
        "                            lr=learning_rate)\n"
      ],
      "execution_count": 33,
      "outputs": []
    },
    {
      "cell_type": "code",
      "metadata": {
        "colab": {
          "base_uri": "https://localhost:8080/"
        },
        "id": "ZLuh-JbsIZ8w",
        "outputId": "30c6ed15-4045-45db-f2cf-a986d2e4e697"
      },
      "source": [
        "for epoch in range(num_epochs):\n",
        "  inputs = torch.from_numpy(x_train)\n",
        "  targets = torch.from_numpy(y_train)\n",
        "\n",
        "  outputs = model(inputs)\n",
        "  loss = criterion(outputs, targets)\n",
        "\n",
        "  optimizer.zero_grad()\n",
        "  loss.backward()\n",
        "  optimizer.step()\n",
        "\n",
        "  if (epoch + 1) % 5 == 0:\n",
        "    print ('Epoch [{}/{}], Loss: {:.4f}'.format(epoch+1, num_epochs, loss.item()))\n"
      ],
      "execution_count": 34,
      "outputs": [
        {
          "output_type": "stream",
          "text": [
            "Epoch [5/60], Loss: 2.0933\n",
            "Epoch [10/60], Loss: 0.9512\n",
            "Epoch [15/60], Loss: 0.4886\n",
            "Epoch [20/60], Loss: 0.3011\n",
            "Epoch [25/60], Loss: 0.2252\n",
            "Epoch [30/60], Loss: 0.1944\n",
            "Epoch [35/60], Loss: 0.1819\n",
            "Epoch [40/60], Loss: 0.1769\n",
            "Epoch [45/60], Loss: 0.1748\n",
            "Epoch [50/60], Loss: 0.1740\n",
            "Epoch [55/60], Loss: 0.1736\n",
            "Epoch [60/60], Loss: 0.1735\n"
          ],
          "name": "stdout"
        }
      ]
    },
    {
      "cell_type": "code",
      "metadata": {
        "colab": {
          "base_uri": "https://localhost:8080/",
          "height": 265
        },
        "id": "aqhHLG8YJCTU",
        "outputId": "f9afa410-a726-4ff0-c80e-16dc0e75235e"
      },
      "source": [
        "predicted = model(torch.from_numpy(x_train)).detach().numpy()\n",
        "plt.plot(x_train, y_train, 'ro', label='Original data')\n",
        "plt.plot(x_train, predicted, label='Fitted line')\n",
        "plt.legend()\n",
        "plt.show()\n",
        "\n",
        "# Save the model checkpoint\n",
        "torch.save(model.state_dict(), 'model.ckpt')"
      ],
      "execution_count": 35,
      "outputs": [
        {
          "output_type": "display_data",
          "data": {
            "image/png": "[encoded data removed]",
            "text/plain": [
              "<Figure size 432x288 with 1 Axes>"
            ]
          },
          "metadata": {
            "tags": [],
            "needs_background": "light"
          }
        }
      ]
    },
    {
      "cell_type": "markdown",
      "metadata": {
        "id": "7UNbuB4KK86x"
      },
      "source": [
        "# Train logistic regression"
      ]
    },
    {
      "cell_type": "code",
      "metadata": {
        "id": "yreDqmRxJDvc"
      },
      "source": [
        "import torch\n",
        "import torch.nn as nn\n",
        "import torchvision\n",
        "import torchvision.transforms as transforms"
      ],
      "execution_count": 36,
      "outputs": []
    },
    {
      "cell_type": "code",
      "metadata": {
        "id": "-YeZUsWcK_Pp"
      },
      "source": [
        "input_size = 28 * 28    # 784\n",
        "num_classes = 10\n",
        "num_epochs = 5\n",
        "batch_size = 100\n",
        "learning_rate = 0.001"
      ],
      "execution_count": 37,
      "outputs": []
    },
    {
      "cell_type": "code",
      "metadata": {
        "id": "MyuypfxSLDPc"
      },
      "source": [
        "train_dataset = torchvision.datasets.MNIST(root='../../data', \n",
        "                                           train=True, \n",
        "                                           transform=transforms.ToTensor(),\n",
        "                                           download=True)\n",
        "\n",
        "test_dataset = torchvision.datasets.MNIST(root='../../data', \n",
        "                                          train=False, \n",
        "                                          transform=transforms.ToTensor())"
      ],
      "execution_count": 39,
      "outputs": []
    },
    {
      "cell_type": "code",
      "metadata": {
        "id": "RrS269wRLHr2"
      },
      "source": [
        "train_loader = torch.utils.data.DataLoader(dataset=train_dataset, \n",
        "                                           batch_size=batch_size, \n",
        "                                           shuffle=True)\n",
        "\n",
        "test_loader = torch.utils.data.DataLoader(dataset=test_dataset, \n",
        "                                          batch_size=batch_size, \n",
        "                                          shuffle=False)"
      ],
      "execution_count": 40,
      "outputs": []
    },
    {
      "cell_type": "code",
      "metadata": {
        "id": "_xqrNumNLK_s"
      },
      "source": [
        "model = nn.Linear(input_size, num_classes)\n",
        "criterion = nn.CrossEntropyLoss()\n",
        "  \n",
        "optimizer = torch.optim.SGD(model.parameters(),\n",
        "                            lr=learning_rate)"
      ],
      "execution_count": 41,
      "outputs": []
    },
    {
      "cell_type": "code",
      "metadata": {
        "colab": {
          "base_uri": "https://localhost:8080/"
        },
        "id": "o6-kJABmLTep",
        "outputId": "7ac38dd5-ff22-493d-ff51-c4d2aff9e335"
      },
      "source": [
        "total_step = len(train_loader)\n",
        "for epoch in range(num_epochs):\n",
        "    for i, (images, labels) in enumerate(train_loader):\n",
        "        images = images.reshape(-1, input_size)\n",
        "        \n",
        "        outputs = model(images)\n",
        "        loss = criterion(outputs, labels)\n",
        "        \n",
        "        optimizer.zero_grad()\n",
        "        loss.backward()\n",
        "        optimizer.step()\n",
        "        \n",
        "        if (i+1) % 100 == 0:\n",
        "            print ('Epoch [{}/{}], Step [{}/{}], Loss: {:.4f}' \n",
        "                   .format(epoch+1, num_epochs, i+1, total_step, loss.item()))"
      ],
      "execution_count": 42,
      "outputs": [
        {
          "output_type": "stream",
          "text": [
            "Epoch [1/5], Step [100/600], Loss: 2.1666\n",
            "Epoch [1/5], Step [200/600], Loss: 2.0934\n",
            "Epoch [1/5], Step [300/600], Loss: 1.9608\n",
            "Epoch [1/5], Step [400/600], Loss: 1.9350\n",
            "Epoch [1/5], Step [500/600], Loss: 1.8372\n",
            "Epoch [1/5], Step [600/600], Loss: 1.8148\n",
            "Epoch [2/5], Step [100/600], Loss: 1.7561\n",
            "Epoch [2/5], Step [200/600], Loss: 1.6295\n",
            "Epoch [2/5], Step [300/600], Loss: 1.5950\n",
            "Epoch [2/5], Step [400/600], Loss: 1.6494\n",
            "Epoch [2/5], Step [500/600], Loss: 1.5558\n",
            "Epoch [2/5], Step [600/600], Loss: 1.4128\n",
            "Epoch [3/5], Step [100/600], Loss: 1.4371\n",
            "Epoch [3/5], Step [200/600], Loss: 1.3692\n",
            "Epoch [3/5], Step [300/600], Loss: 1.4004\n",
            "Epoch [3/5], Step [400/600], Loss: 1.2410\n",
            "Epoch [3/5], Step [500/600], Loss: 1.2979\n",
            "Epoch [3/5], Step [600/600], Loss: 1.2980\n",
            "Epoch [4/5], Step [100/600], Loss: 1.2300\n",
            "Epoch [4/5], Step [200/600], Loss: 1.1190\n",
            "Epoch [4/5], Step [300/600], Loss: 1.1818\n",
            "Epoch [4/5], Step [400/600], Loss: 1.1142\n",
            "Epoch [4/5], Step [500/600], Loss: 1.2120\n",
            "Epoch [4/5], Step [600/600], Loss: 1.0923\n",
            "Epoch [5/5], Step [100/600], Loss: 1.1290\n",
            "Epoch [5/5], Step [200/600], Loss: 1.0488\n",
            "Epoch [5/5], Step [300/600], Loss: 1.1108\n",
            "Epoch [5/5], Step [400/600], Loss: 0.9261\n",
            "Epoch [5/5], Step [500/600], Loss: 0.9264\n",
            "Epoch [5/5], Step [600/600], Loss: 1.0486\n"
          ],
          "name": "stdout"
        }
      ]
    },
    {
      "cell_type": "code",
      "metadata": {
        "colab": {
          "base_uri": "https://localhost:8080/"
        },
        "id": "Bovy8NbRLaS4",
        "outputId": "e75b470a-ca54-44a1-94a0-c052a6ede146"
      },
      "source": [
        "with torch.no_grad():\n",
        "    correct = 0\n",
        "    total = 0\n",
        "    for images, labels in test_loader:\n",
        "        images = images.reshape(-1, input_size)\n",
        "        outputs = model(images)\n",
        "        _, predicted = torch.max(outputs.data, 1)\n",
        "        total += labels.size(0)\n",
        "        correct += (predicted == labels).sum()\n",
        "\n",
        "    print('Accuracy of the model on the 10000 test images: {} %'.format(100 * correct / total))\n"
      ],
      "execution_count": 43,
      "outputs": [
        {
          "output_type": "stream",
          "text": [
            "Accuracy of the model on the 10000 test images: 82.0 %\n"
          ],
          "name": "stdout"
        }
      ]
    },
    {
      "cell_type": "markdown",
      "metadata": {
        "id": "HL7HMLeaM08B"
      },
      "source": [
        "# Train Fully Connected Neural Network "
      ]
    },
    {
      "cell_type": "code",
      "metadata": {
        "id": "dKltsWtgMxoY"
      },
      "source": [
        "import torch\n",
        "import torch.nn as nn\n",
        "import torchvision\n",
        "import torchvision.transforms as transforms"
      ],
      "execution_count": 44,
      "outputs": []
    },
    {
      "cell_type": "code",
      "metadata": {
        "id": "Tw-7PhPALneA"
      },
      "source": [
        "device = torch.device('cuda' if torch.cuda.is_available() else 'cpu')"
      ],
      "execution_count": 45,
      "outputs": []
    },
    {
      "cell_type": "code",
      "metadata": {
        "id": "TncZAm3hNRUv"
      },
      "source": [
        "#Parameters\n",
        "\n",
        "input_size = 784\n",
        "hidden_size = 500\n",
        "num_classes = 10\n",
        "num_epochs = 5\n",
        "batch_size = 100\n",
        "learning_rate = 0.001"
      ],
      "execution_count": 48,
      "outputs": []
    },
    {
      "cell_type": "code",
      "metadata": {
        "id": "OzCuf06UNR37"
      },
      "source": [
        "train_dataset = torchvision.datasets.MNIST(root='../../data', \n",
        "                                           train=True, \n",
        "                                           transform=transforms.ToTensor(),  \n",
        "                                           download=True)\n",
        "\n",
        "test_dataset = torchvision.datasets.MNIST(root='../../data', \n",
        "                                          train=False, \n",
        "                                          transform=transforms.ToTensor())"
      ],
      "execution_count": 49,
      "outputs": []
    },
    {
      "cell_type": "code",
      "metadata": {
        "id": "wchd80uRNbLj"
      },
      "source": [
        "train_loader = torch.utils.data.DataLoader(dataset=train_dataset, \n",
        "                                           batch_size=batch_size, \n",
        "                                           shuffle=True)\n",
        "\n",
        "test_loader = torch.utils.data.DataLoader(dataset=test_dataset, \n",
        "                                          batch_size=batch_size, \n",
        "                                          shuffle=False)"
      ],
      "execution_count": 50,
      "outputs": []
    },
    {
      "cell_type": "code",
      "metadata": {
        "id": "EyUCuWK7NdLQ"
      },
      "source": [
        "class NeuralNetReLU(nn.Module):\n",
        "  def __init__(self, input_size, hidden_size, num_classes):\n",
        "    super(NeuralNetReLU, self).__init__()\n",
        "    \n",
        "    self.fc1 = nn.Linear(input_size, hidden_size)\n",
        "    self.relu = nn.ReLU()\n",
        "    self.fc2 = nn.Linear(hidden_size, num_classes)\n",
        "\n",
        "  def forward(self, x):\n",
        "    out = self.fc1(x)\n",
        "    out = self.relu(out)\n",
        "    out = self.fc2(out)\n",
        "\n",
        "    return out\n",
        "\n",
        "class NeuralNetSigmoid(nn.Module):\n",
        "  def __init__(self, input_size, hidden_size, num_classes):\n",
        "    super(NeuralNetSigmoid, self).__init__()\n",
        "    \n",
        "    self.fc1 = nn.Linear(input_size, hidden_size)\n",
        "    self.act1 = nn.Sigmoid()\n",
        "    self.fc2 = nn.Linear(hidden_size, num_classes)\n",
        "\n",
        "  def forward(self, x):\n",
        "    out = self.fc1(x)\n",
        "    out = self.act1(out)\n",
        "    out = self.fc2(out)\n",
        "\n",
        "    return out"
      ],
      "execution_count": 60,
      "outputs": []
    },
    {
      "cell_type": "markdown",
      "metadata": {
        "id": "LCQArsCDPpQm"
      },
      "source": [
        "## Train NN with ReLU activation"
      ]
    },
    {
      "cell_type": "code",
      "metadata": {
        "id": "4MuJvTH_OGgd"
      },
      "source": [
        "model = NeuralNetReLU(input_size, hidden_size, num_classes).to(device)\n",
        "criterion = nn.CrossEntropyLoss()\n",
        "optimizer = torch.optim.Adam(model.parameters(), lr=learning_rate)\n",
        "\n"
      ],
      "execution_count": 55,
      "outputs": []
    },
    {
      "cell_type": "code",
      "metadata": {
        "colab": {
          "base_uri": "https://localhost:8080/"
        },
        "id": "NAWesP-tO4j8",
        "outputId": "999e2acc-649d-4e4e-907c-d77a143854d6"
      },
      "source": [
        "total_step = len(train_loader)\n",
        "for epoch in range(num_epochs):\n",
        "    for i, (images, labels) in enumerate(train_loader):  \n",
        "        # Move tensors to the configured device\n",
        "        images = images.reshape(-1, 28*28).to(device)\n",
        "        labels = labels.to(device)\n",
        "        \n",
        "        # Forward pass\n",
        "        outputs = model(images)\n",
        "        loss = criterion(outputs, labels)\n",
        "        \n",
        "        # Backward and optimize\n",
        "        optimizer.zero_grad()\n",
        "        loss.backward()\n",
        "        optimizer.step()\n",
        "        \n",
        "        if (i+1) % 100 == 0:\n",
        "            print ('Epoch [{}/{}], Step [{}/{}], Loss: {:.4f}' \n",
        "                   .format(epoch+1, num_epochs, i+1, total_step, loss.item()))"
      ],
      "execution_count": 56,
      "outputs": [
        {
          "output_type": "stream",
          "text": [
            "Epoch [1/5], Step [100/600], Loss: 0.2825\n",
            "Epoch [1/5], Step [200/600], Loss: 0.3230\n",
            "Epoch [1/5], Step [300/600], Loss: 0.1309\n",
            "Epoch [1/5], Step [400/600], Loss: 0.1368\n",
            "Epoch [1/5], Step [500/600], Loss: 0.2041\n",
            "Epoch [1/5], Step [600/600], Loss: 0.1510\n",
            "Epoch [2/5], Step [100/600], Loss: 0.1167\n",
            "Epoch [2/5], Step [200/600], Loss: 0.2421\n",
            "Epoch [2/5], Step [300/600], Loss: 0.1853\n",
            "Epoch [2/5], Step [400/600], Loss: 0.1026\n",
            "Epoch [2/5], Step [500/600], Loss: 0.0850\n",
            "Epoch [2/5], Step [600/600], Loss: 0.0963\n",
            "Epoch [3/5], Step [100/600], Loss: 0.0687\n",
            "Epoch [3/5], Step [200/600], Loss: 0.0854\n",
            "Epoch [3/5], Step [300/600], Loss: 0.0252\n",
            "Epoch [3/5], Step [400/600], Loss: 0.0521\n",
            "Epoch [3/5], Step [500/600], Loss: 0.0610\n",
            "Epoch [3/5], Step [600/600], Loss: 0.0646\n",
            "Epoch [4/5], Step [100/600], Loss: 0.0304\n",
            "Epoch [4/5], Step [200/600], Loss: 0.0472\n",
            "Epoch [4/5], Step [300/600], Loss: 0.0249\n",
            "Epoch [4/5], Step [400/600], Loss: 0.0873\n",
            "Epoch [4/5], Step [500/600], Loss: 0.0269\n",
            "Epoch [4/5], Step [600/600], Loss: 0.0511\n",
            "Epoch [5/5], Step [100/600], Loss: 0.0258\n",
            "Epoch [5/5], Step [200/600], Loss: 0.0228\n",
            "Epoch [5/5], Step [300/600], Loss: 0.0215\n",
            "Epoch [5/5], Step [400/600], Loss: 0.0141\n",
            "Epoch [5/5], Step [500/600], Loss: 0.0425\n",
            "Epoch [5/5], Step [600/600], Loss: 0.0112\n"
          ],
          "name": "stdout"
        }
      ]
    },
    {
      "cell_type": "code",
      "metadata": {
        "colab": {
          "base_uri": "https://localhost:8080/"
        },
        "id": "ckQ5qmoqPACe",
        "outputId": "93090573-d225-4bce-c0ff-6fa9625e81e7"
      },
      "source": [
        "with torch.no_grad():\n",
        "    correct = 0\n",
        "    total = 0\n",
        "    for images, labels in test_loader:\n",
        "        images = images.reshape(-1, 28*28).to(device)\n",
        "        labels = labels.to(device)\n",
        "        outputs = model(images)\n",
        "        _, predicted = torch.max(outputs.data, 1)\n",
        "        total += labels.size(0)\n",
        "        correct += (predicted == labels).sum().item()\n",
        "\n",
        "    print('Accuracy of the network on the 10000 test images: {} %'.format(100 * correct / total))"
      ],
      "execution_count": 57,
      "outputs": [
        {
          "output_type": "stream",
          "text": [
            "Accuracy of the network on the 10000 test images: 97.99 %\n"
          ],
          "name": "stdout"
        }
      ]
    },
    {
      "cell_type": "markdown",
      "metadata": {
        "id": "s0142y14Pty-"
      },
      "source": [
        "## Train NN with Sigmoid Activation"
      ]
    },
    {
      "cell_type": "code",
      "metadata": {
        "id": "RGw3FRPQPRC6"
      },
      "source": [
        "model = NeuralNetSigmoid(input_size, hidden_size, num_classes).to(device)\n",
        "criterion = nn.CrossEntropyLoss()\n",
        "optimizer = torch.optim.Adam(model.parameters(), lr=learning_rate)\n"
      ],
      "execution_count": 61,
      "outputs": []
    },
    {
      "cell_type": "code",
      "metadata": {
        "colab": {
          "base_uri": "https://localhost:8080/"
        },
        "id": "7iOhJ6DmP_a-",
        "outputId": "d564c26d-accf-4775-a93e-d1813d3e934b"
      },
      "source": [
        "total_step = len(train_loader)\n",
        "for epoch in range(num_epochs):\n",
        "    for i, (images, labels) in enumerate(train_loader):  \n",
        "        # Move tensors to the configured device\n",
        "        images = images.reshape(-1, 28*28).to(device)\n",
        "        labels = labels.to(device)\n",
        "        \n",
        "        # Forward pass\n",
        "        outputs = model(images)\n",
        "        loss = criterion(outputs, labels)\n",
        "        \n",
        "        # Backward and optimize\n",
        "        optimizer.zero_grad()\n",
        "        loss.backward()\n",
        "        optimizer.step()\n",
        "        \n",
        "        if (i+1) % 100 == 0:\n",
        "            print ('Epoch [{}/{}], Step [{}/{}], Loss: {:.4f}' \n",
        "                   .format(epoch+1, num_epochs, i+1, total_step, loss.item()))"
      ],
      "execution_count": 62,
      "outputs": [
        {
          "output_type": "stream",
          "text": [
            "Epoch [1/5], Step [100/600], Loss: 0.4671\n",
            "Epoch [1/5], Step [200/600], Loss: 0.4040\n",
            "Epoch [1/5], Step [300/600], Loss: 0.3343\n",
            "Epoch [1/5], Step [400/600], Loss: 0.2603\n",
            "Epoch [1/5], Step [500/600], Loss: 0.2274\n",
            "Epoch [1/5], Step [600/600], Loss: 0.2900\n",
            "Epoch [2/5], Step [100/600], Loss: 0.2054\n",
            "Epoch [2/5], Step [200/600], Loss: 0.2075\n",
            "Epoch [2/5], Step [300/600], Loss: 0.1927\n",
            "Epoch [2/5], Step [400/600], Loss: 0.2628\n",
            "Epoch [2/5], Step [500/600], Loss: 0.1300\n",
            "Epoch [2/5], Step [600/600], Loss: 0.0988\n",
            "Epoch [3/5], Step [100/600], Loss: 0.1201\n",
            "Epoch [3/5], Step [200/600], Loss: 0.0976\n",
            "Epoch [3/5], Step [300/600], Loss: 0.1844\n",
            "Epoch [3/5], Step [400/600], Loss: 0.1332\n",
            "Epoch [3/5], Step [500/600], Loss: 0.1236\n",
            "Epoch [3/5], Step [600/600], Loss: 0.1540\n",
            "Epoch [4/5], Step [100/600], Loss: 0.1373\n",
            "Epoch [4/5], Step [200/600], Loss: 0.1446\n",
            "Epoch [4/5], Step [300/600], Loss: 0.1168\n",
            "Epoch [4/5], Step [400/600], Loss: 0.0540\n",
            "Epoch [4/5], Step [500/600], Loss: 0.0949\n",
            "Epoch [4/5], Step [600/600], Loss: 0.0758\n",
            "Epoch [5/5], Step [100/600], Loss: 0.1339\n",
            "Epoch [5/5], Step [200/600], Loss: 0.1527\n",
            "Epoch [5/5], Step [300/600], Loss: 0.0759\n",
            "Epoch [5/5], Step [400/600], Loss: 0.1178\n",
            "Epoch [5/5], Step [500/600], Loss: 0.0853\n",
            "Epoch [5/5], Step [600/600], Loss: 0.1194\n"
          ],
          "name": "stdout"
        }
      ]
    },
    {
      "cell_type": "code",
      "metadata": {
        "colab": {
          "base_uri": "https://localhost:8080/"
        },
        "id": "WaJYuffaQGIG",
        "outputId": "7d433690-bb7d-45dc-b7c2-2f5ae6fe806a"
      },
      "source": [
        "with torch.no_grad():\n",
        "    correct = 0\n",
        "    total = 0\n",
        "    for images, labels in test_loader:\n",
        "        images = images.reshape(-1, 28*28).to(device)\n",
        "        labels = labels.to(device)\n",
        "        outputs = model(images)\n",
        "        _, predicted = torch.max(outputs.data, 1)\n",
        "        total += labels.size(0)\n",
        "        correct += (predicted == labels).sum().item()\n",
        "\n",
        "    print('Accuracy of the network on the 10000 test images: {} %'.format(100 * correct / total))"
      ],
      "execution_count": 63,
      "outputs": [
        {
          "output_type": "stream",
          "text": [
            "Accuracy of the network on the 10000 test images: 96.74 %\n"
          ],
          "name": "stdout"
        }
      ]
    },
    {
      "cell_type": "code",
      "metadata": {
        "id": "GChOWpG2QSWa"
      },
      "source": [
        ""
      ],
      "execution_count": null,
      "outputs": []
    }
  ]
}